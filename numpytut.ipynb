{
  "nbformat": 4,
  "nbformat_minor": 0,
  "metadata": {
    "colab": {
      "provenance": []
    },
    "kernelspec": {
      "name": "python3",
      "display_name": "Python 3"
    },
    "language_info": {
      "name": "python"
    }
  },
  "cells": [
    {
      "cell_type": "markdown",
      "source": [
        "#Numpy Tutorial\n",
        "Special thanks to Mr. P solver youtube channel"
      ],
      "metadata": {
        "id": "IleOgkPQRpGg"
      }
    },
    {
      "cell_type": "code",
      "execution_count": null,
      "metadata": {
        "id": "OiUmzRqZv6km"
      },
      "outputs": [],
      "source": [
        "import numpy as np\n",
        "import matplotlib.pyplot as plt"
      ]
    },
    {
      "cell_type": "markdown",
      "source": [
        "## Basics"
      ],
      "metadata": {
        "id": "wgRMnh-WzHiN"
      }
    },
    {
      "cell_type": "code",
      "source": [
        "a1 = np.array([1,2,3,4,5])"
      ],
      "metadata": {
        "id": "QcGLFnFkwYDX"
      },
      "execution_count": null,
      "outputs": []
    },
    {
      "cell_type": "code",
      "source": [
        "np.zeros(5)"
      ],
      "metadata": {
        "colab": {
          "base_uri": "https://localhost:8080/"
        },
        "id": "bjJ9jf2GwlAH",
        "outputId": "2c764025-bfd9-46d0-a15c-c521db7a6efa"
      },
      "execution_count": null,
      "outputs": [
        {
          "output_type": "execute_result",
          "data": {
            "text/plain": [
              "array([0., 0., 0., 0., 0.])"
            ]
          },
          "metadata": {},
          "execution_count": 5
        }
      ]
    },
    {
      "cell_type": "code",
      "source": [
        "np.ones(4)"
      ],
      "metadata": {
        "colab": {
          "base_uri": "https://localhost:8080/"
        },
        "id": "aHfBbl_kwore",
        "outputId": "7fc37286-c9c6-401d-8c3e-b03ca28ed975"
      },
      "execution_count": null,
      "outputs": [
        {
          "output_type": "execute_result",
          "data": {
            "text/plain": [
              "array([1., 1., 1., 1.])"
            ]
          },
          "metadata": {},
          "execution_count": 6
        }
      ]
    },
    {
      "cell_type": "code",
      "source": [
        "np.random.random(5)"
      ],
      "metadata": {
        "colab": {
          "base_uri": "https://localhost:8080/"
        },
        "id": "X3zovu11wrdc",
        "outputId": "fdd2bbf1-aa42-49be-9bed-32a7da092552"
      },
      "execution_count": null,
      "outputs": [
        {
          "output_type": "execute_result",
          "data": {
            "text/plain": [
              "array([0.31661697, 0.37240708, 0.19228194, 0.72416791, 0.54227088])"
            ]
          },
          "metadata": {},
          "execution_count": 8
        }
      ]
    },
    {
      "cell_type": "code",
      "source": [
        "np.random.randn(5) #distributed according to guassian\n"
      ],
      "metadata": {
        "colab": {
          "base_uri": "https://localhost:8080/"
        },
        "id": "8Te8WIq0wwhV",
        "outputId": "51a56177-a013-45ae-a193-377043178d2b"
      },
      "execution_count": null,
      "outputs": [
        {
          "output_type": "execute_result",
          "data": {
            "text/plain": [
              "array([-1.03179812,  0.37278454,  1.25678622, -1.17945933,  0.14766405])"
            ]
          },
          "metadata": {},
          "execution_count": 9
        }
      ]
    },
    {
      "cell_type": "code",
      "source": [
        "np.linspace(1,10,21)\n",
        "#linspace(start,stop,no. of interval)"
      ],
      "metadata": {
        "colab": {
          "base_uri": "https://localhost:8080/"
        },
        "id": "h-RVY1Lfw4qN",
        "outputId": "070eec29-2b4a-45d7-be95-c1c15720e196"
      },
      "execution_count": null,
      "outputs": [
        {
          "output_type": "execute_result",
          "data": {
            "text/plain": [
              "array([ 1.  ,  1.45,  1.9 ,  2.35,  2.8 ,  3.25,  3.7 ,  4.15,  4.6 ,\n",
              "        5.05,  5.5 ,  5.95,  6.4 ,  6.85,  7.3 ,  7.75,  8.2 ,  8.65,\n",
              "        9.1 ,  9.55, 10.  ])"
            ]
          },
          "metadata": {},
          "execution_count": 13
        }
      ]
    },
    {
      "cell_type": "code",
      "source": [
        "np.arange(1,10,0.45)\n",
        "#'arange'(start,stop,spacing)"
      ],
      "metadata": {
        "colab": {
          "base_uri": "https://localhost:8080/"
        },
        "id": "qk_CPXLmxI-l",
        "outputId": "052a3405-0114-41a1-838d-965fb0a989d6"
      },
      "execution_count": null,
      "outputs": [
        {
          "output_type": "execute_result",
          "data": {
            "text/plain": [
              "array([1.  , 1.45, 1.9 , 2.35, 2.8 , 3.25, 3.7 , 4.15, 4.6 , 5.05, 5.5 ,\n",
              "       5.95, 6.4 , 6.85, 7.3 , 7.75, 8.2 , 8.65, 9.1 , 9.55])"
            ]
          },
          "metadata": {},
          "execution_count": 18
        }
      ]
    },
    {
      "cell_type": "code",
      "source": [
        "a1*5"
      ],
      "metadata": {
        "colab": {
          "base_uri": "https://localhost:8080/"
        },
        "id": "FnCsZyoPxcac",
        "outputId": "bda9ae71-30ef-46f8-b37c-539a4d013c70"
      },
      "execution_count": null,
      "outputs": [
        {
          "output_type": "execute_result",
          "data": {
            "text/plain": [
              "array([ 5, 10, 15, 20, 25])"
            ]
          },
          "metadata": {},
          "execution_count": 20
        }
      ]
    },
    {
      "cell_type": "code",
      "source": [
        "a1-5"
      ],
      "metadata": {
        "colab": {
          "base_uri": "https://localhost:8080/"
        },
        "id": "Bi5VZd5vx-VO",
        "outputId": "c5c6cea4-b8df-43aa-dba7-afdbfba822e7"
      },
      "execution_count": null,
      "outputs": [
        {
          "output_type": "execute_result",
          "data": {
            "text/plain": [
              "array([-4, -3, -2, -1,  0])"
            ]
          },
          "metadata": {},
          "execution_count": 21
        }
      ]
    },
    {
      "cell_type": "code",
      "source": [
        "a1>3"
      ],
      "metadata": {
        "colab": {
          "base_uri": "https://localhost:8080/"
        },
        "id": "fnb0DuFPx_Sh",
        "outputId": "c5033981-f25d-4a6d-b945-3a2f011622c3"
      },
      "execution_count": null,
      "outputs": [
        {
          "output_type": "execute_result",
          "data": {
            "text/plain": [
              "array([False, False, False,  True,  True])"
            ]
          },
          "metadata": {},
          "execution_count": 23
        }
      ]
    },
    {
      "cell_type": "code",
      "source": [
        "x = np.linspace(0,1,100)\n",
        "y = x**2"
      ],
      "metadata": {
        "id": "_fal1w4fyQu7"
      },
      "execution_count": null,
      "outputs": []
    },
    {
      "cell_type": "code",
      "source": [
        "plt.plot(x,y)"
      ],
      "metadata": {
        "colab": {
          "base_uri": "https://localhost:8080/",
          "height": 447
        },
        "id": "s5Qri-eHyXjK",
        "outputId": "4d02a065-bb25-437a-c256-bb978d15bb43"
      },
      "execution_count": null,
      "outputs": [
        {
          "output_type": "execute_result",
          "data": {
            "text/plain": [
              "[<matplotlib.lines.Line2D at 0x7b4b37386410>]"
            ]
          },
          "metadata": {},
          "execution_count": 28
        },
        {
          "output_type": "display_data",
          "data": {
            "text/plain": [
              "<Figure size 640x480 with 1 Axes>"
            ],
            "image/png": "[encoded data removed]"
          },
          "metadata": {}
        }
      ]
    },
    {
      "cell_type": "code",
      "source": [
        "z = np.random.randn(200)"
      ],
      "metadata": {
        "id": "rU-ZgdJGygqG"
      },
      "execution_count": null,
      "outputs": []
    },
    {
      "cell_type": "code",
      "source": [
        "plt.hist(z)"
      ],
      "metadata": {
        "colab": {
          "base_uri": "https://localhost:8080/",
          "height": 517
        },
        "id": "FS-HLKkUyocz",
        "outputId": "d5babc80-f715-456a-99da-8e93331728e6"
      },
      "execution_count": null,
      "outputs": [
        {
          "output_type": "execute_result",
          "data": {
            "text/plain": [
              "(array([ 15.,  54., 144., 392., 464., 476., 287., 117.,  39.,  12.]),\n",
              " array([-3.0941724 , -2.4560439 , -1.81791541, -1.17978692, -0.54165843,\n",
              "         0.09647007,  0.73459856,  1.37272705,  2.01085554,  2.64898404,\n",
              "         3.28711253]),\n",
              " <BarContainer object of 10 artists>)"
            ]
          },
          "metadata": {},
          "execution_count": 38
        },
        {
          "output_type": "display_data",
          "data": {
            "text/plain": [
              "<Figure size 640x480 with 1 Axes>"
            ],
            "image/png": "[encoded data removed]"
          },
          "metadata": {}
        }
      ]
    },
    {
      "cell_type": "code",
      "source": [],
      "metadata": {
        "id": "MS402XRWyqbz"
      },
      "execution_count": null,
      "outputs": []
    },
    {
      "cell_type": "markdown",
      "source": [
        "## Indexing and slicing"
      ],
      "metadata": {
        "id": "z5N5xHBEzJop"
      }
    },
    {
      "cell_type": "code",
      "source": [
        "a1 = np.array([1,5,10,6,16,8])"
      ],
      "metadata": {
        "id": "yAARVPeEzM3M"
      },
      "execution_count": null,
      "outputs": []
    },
    {
      "cell_type": "code",
      "source": [
        "a1[5]"
      ],
      "metadata": {
        "colab": {
          "base_uri": "https://localhost:8080/"
        },
        "id": "XV1xnioszTvx",
        "outputId": "cea352d0-edfc-4e52-aebd-597e806430b3"
      },
      "execution_count": null,
      "outputs": [
        {
          "output_type": "execute_result",
          "data": {
            "text/plain": [
              "8"
            ]
          },
          "metadata": {},
          "execution_count": 47
        }
      ]
    },
    {
      "cell_type": "code",
      "source": [
        "a1[2:]"
      ],
      "metadata": {
        "colab": {
          "base_uri": "https://localhost:8080/"
        },
        "id": "QiVzHP1QzXsR",
        "outputId": "2503502b-0db0-47e0-f545-85ede1bc8798"
      },
      "execution_count": null,
      "outputs": [
        {
          "output_type": "execute_result",
          "data": {
            "text/plain": [
              "array([10,  6,  9,  8])"
            ]
          },
          "metadata": {},
          "execution_count": 44
        }
      ]
    },
    {
      "cell_type": "code",
      "source": [
        "a1[2:6]"
      ],
      "metadata": {
        "colab": {
          "base_uri": "https://localhost:8080/"
        },
        "id": "8Lv4Bq0FziwK",
        "outputId": "8cfaa310-abae-4b48-8098-237c35857ddc"
      },
      "execution_count": null,
      "outputs": [
        {
          "output_type": "execute_result",
          "data": {
            "text/plain": [
              "array([10,  6,  9,  8])"
            ]
          },
          "metadata": {},
          "execution_count": 48
        }
      ]
    },
    {
      "cell_type": "code",
      "source": [
        "a1[:-2]"
      ],
      "metadata": {
        "colab": {
          "base_uri": "https://localhost:8080/"
        },
        "id": "iBn2pgylzmnW",
        "outputId": "2230e0b1-1eb5-4466-91a9-ad9d0e96ba3b"
      },
      "execution_count": null,
      "outputs": [
        {
          "output_type": "execute_result",
          "data": {
            "text/plain": [
              "array([ 1,  5, 10,  6])"
            ]
          },
          "metadata": {},
          "execution_count": 50
        }
      ]
    },
    {
      "cell_type": "code",
      "source": [
        "a1>3"
      ],
      "metadata": {
        "colab": {
          "base_uri": "https://localhost:8080/"
        },
        "id": "hOJZFLiGzxQr",
        "outputId": "bac6e31d-1cca-4673-b21e-58b6c6a0a84a"
      },
      "execution_count": null,
      "outputs": [
        {
          "output_type": "execute_result",
          "data": {
            "text/plain": [
              "array([False,  True,  True,  True,  True,  True])"
            ]
          },
          "metadata": {},
          "execution_count": 51
        }
      ]
    },
    {
      "cell_type": "code",
      "source": [
        "a1[a1>3] #boolean indexing"
      ],
      "metadata": {
        "colab": {
          "base_uri": "https://localhost:8080/"
        },
        "id": "id5XRNnzz5pL",
        "outputId": "54eb2f99-0cf6-4945-d979-414027e30d95"
      },
      "execution_count": null,
      "outputs": [
        {
          "output_type": "execute_result",
          "data": {
            "text/plain": [
              "array([ 5, 10,  6,  9,  8])"
            ]
          },
          "metadata": {},
          "execution_count": 52
        }
      ]
    },
    {
      "cell_type": "code",
      "source": [
        "b = np.array(['ram','shyam','mohan','rahul'])"
      ],
      "metadata": {
        "id": "xF-PZ9Dvz7ye"
      },
      "execution_count": null,
      "outputs": []
    },
    {
      "cell_type": "markdown",
      "source": [
        "## Lambda function and power of vectorization"
      ],
      "metadata": {
        "id": "lnJ2PxEf5lTB"
      }
    },
    {
      "cell_type": "code",
      "source": [
        "(lambda s:s[0])(b)"
      ],
      "metadata": {
        "colab": {
          "base_uri": "https://localhost:8080/",
          "height": 35
        },
        "id": "1B5jB5cy0pXy",
        "outputId": "ebd8f7c9-de93-4222-94c7-43605ca69c5c"
      },
      "execution_count": null,
      "outputs": [
        {
          "output_type": "execute_result",
          "data": {
            "text/plain": [
              "'ram'"
            ],
            "application/vnd.google.colaboratory.intrinsic+json": {
              "type": "string"
            }
          },
          "metadata": {},
          "execution_count": 57
        }
      ]
    },
    {
      "cell_type": "code",
      "source": [
        "np.vectorize(lambda s:s[0])(b)"
      ],
      "metadata": {
        "colab": {
          "base_uri": "https://localhost:8080/"
        },
        "id": "U6gEzFYO0K5A",
        "outputId": "b5019f84-e3ff-4f92-8d5d-ba27824dc047"
      },
      "execution_count": null,
      "outputs": [
        {
          "output_type": "execute_result",
          "data": {
            "text/plain": [
              "array(['r', 's', 'm', 'r'], dtype='<U1')"
            ]
          },
          "metadata": {},
          "execution_count": 59
        }
      ]
    },
    {
      "cell_type": "code",
      "source": [
        "first_name= np.vectorize(lambda s:s[0])(b)=='r'"
      ],
      "metadata": {
        "id": "TP31s--10gzU"
      },
      "execution_count": null,
      "outputs": []
    },
    {
      "cell_type": "code",
      "source": [
        "b[first_name]"
      ],
      "metadata": {
        "colab": {
          "base_uri": "https://localhost:8080/"
        },
        "id": "HduwINDr0hux",
        "outputId": "10ff27d0-a695-40c9-8855-979b1bed68ab"
      },
      "execution_count": null,
      "outputs": [
        {
          "output_type": "execute_result",
          "data": {
            "text/plain": [
              "array(['ram', 'rahul'], dtype='<U5')"
            ]
          },
          "metadata": {},
          "execution_count": 63
        }
      ]
    },
    {
      "cell_type": "code",
      "source": [
        "a1%4"
      ],
      "metadata": {
        "colab": {
          "base_uri": "https://localhost:8080/"
        },
        "id": "3sxPpCW65f3f",
        "outputId": "c6a671eb-d137-413f-cbb2-2c71b5c4de3f"
      },
      "execution_count": null,
      "outputs": [
        {
          "output_type": "execute_result",
          "data": {
            "text/plain": [
              "array([1, 1, 2, 2, 0, 0])"
            ]
          },
          "metadata": {},
          "execution_count": 78
        }
      ]
    },
    {
      "cell_type": "code",
      "source": [
        "a1%4 == 0"
      ],
      "metadata": {
        "colab": {
          "base_uri": "https://localhost:8080/"
        },
        "id": "aimaBknR4MO2",
        "outputId": "83128b4f-0baf-4d77-c49b-638629c31329"
      },
      "execution_count": null,
      "outputs": [
        {
          "output_type": "execute_result",
          "data": {
            "text/plain": [
              "array([False, False, False, False,  True,  True])"
            ]
          },
          "metadata": {},
          "execution_count": 76
        }
      ]
    },
    {
      "cell_type": "code",
      "source": [
        "a1[a1%4==0]"
      ],
      "metadata": {
        "colab": {
          "base_uri": "https://localhost:8080/"
        },
        "id": "_apqMYaU4VLK",
        "outputId": "28e9155a-e6be-4d0e-a4aa-6631e0ef8707"
      },
      "execution_count": null,
      "outputs": [
        {
          "output_type": "execute_result",
          "data": {
            "text/plain": [
              "array([16,  8])"
            ]
          },
          "metadata": {},
          "execution_count": 77
        }
      ]
    },
    {
      "cell_type": "markdown",
      "source": [
        "## Stats"
      ],
      "metadata": {
        "id": "Dbr_7gtk5qUc"
      }
    },
    {
      "cell_type": "code",
      "source": [
        "a1 = 2*np.random.randn(1000)+10"
      ],
      "metadata": {
        "id": "QZuismj15sbE"
      },
      "execution_count": null,
      "outputs": []
    },
    {
      "cell_type": "code",
      "source": [
        "np.mean(a1)"
      ],
      "metadata": {
        "colab": {
          "base_uri": "https://localhost:8080/"
        },
        "id": "CGi_Thpx55QE",
        "outputId": "c4ccf8aa-2ec0-43a2-b64b-5155ead423c0"
      },
      "execution_count": null,
      "outputs": [
        {
          "output_type": "execute_result",
          "data": {
            "text/plain": [
              "9.891923499183955"
            ]
          },
          "metadata": {},
          "execution_count": 80
        }
      ]
    },
    {
      "cell_type": "code",
      "source": [
        "np.std(a1)"
      ],
      "metadata": {
        "colab": {
          "base_uri": "https://localhost:8080/"
        },
        "id": "kydzmZfG57DC",
        "outputId": "c6cfb882-6e9f-4aa2-a3b9-9d7798f965b4"
      },
      "execution_count": null,
      "outputs": [
        {
          "output_type": "execute_result",
          "data": {
            "text/plain": [
              "1.9716696427906946"
            ]
          },
          "metadata": {},
          "execution_count": 84
        }
      ]
    },
    {
      "cell_type": "code",
      "source": [
        "np.percentile(a1,80) # 80% are less than calculated value - 11.55 here"
      ],
      "metadata": {
        "colab": {
          "base_uri": "https://localhost:8080/"
        },
        "id": "o0K_Dojz6FdR",
        "outputId": "b64e3ad4-7257-4f61-8b69-982d2484618b"
      },
      "execution_count": null,
      "outputs": [
        {
          "output_type": "execute_result",
          "data": {
            "text/plain": [
              "11.559644157700141"
            ]
          },
          "metadata": {},
          "execution_count": 86
        }
      ]
    },
    {
      "cell_type": "markdown",
      "source": [
        "## Integral"
      ],
      "metadata": {
        "id": "JnBJTOWL6ttv"
      }
    },
    {
      "cell_type": "code",
      "source": [
        "x = np.linspace(1,10,100)"
      ],
      "metadata": {
        "id": "Kt57nPH-6KaP"
      },
      "execution_count": null,
      "outputs": []
    },
    {
      "cell_type": "code",
      "source": [
        "np.cumsum([1,2,3,4])"
      ],
      "metadata": {
        "colab": {
          "base_uri": "https://localhost:8080/"
        },
        "id": "MuK8Khvq73Om",
        "outputId": "ca36cf6e-d9b4-4319-9f29-199954faf5ff"
      },
      "execution_count": null,
      "outputs": [
        {
          "output_type": "execute_result",
          "data": {
            "text/plain": [
              "array([ 1,  3,  6, 10])"
            ]
          },
          "metadata": {},
          "execution_count": 100
        }
      ]
    },
    {
      "cell_type": "code",
      "source": [
        "y = 1/x**2 * np.sin(x)\n",
        "dydx = np.gradient(y,x)\n",
        "y_int = np.cumsum(y)*(x[1]-x[0])"
      ],
      "metadata": {
        "id": "G5WFlPj-61ps"
      },
      "execution_count": null,
      "outputs": []
    },
    {
      "cell_type": "code",
      "source": [
        "plt.plot(x,y,label = 'funtion')\n",
        "plt.plot(x,dydx,label = 'derivative')\n",
        "plt.plot(x,y_int,label = 'integral')\n",
        "plt.legend()"
      ],
      "metadata": {
        "colab": {
          "base_uri": "https://localhost:8080/",
          "height": 447
        },
        "id": "_a580ZFa67I_",
        "outputId": "06f0cb63-0630-40b7-da03-05d6503d823d"
      },
      "execution_count": null,
      "outputs": [
        {
          "output_type": "execute_result",
          "data": {
            "text/plain": [
              "<matplotlib.legend.Legend at 0x7b4b2adf8550>"
            ]
          },
          "metadata": {},
          "execution_count": 102
        },
        {
          "output_type": "display_data",
          "data": {
            "text/plain": [
              "<Figure size 640x480 with 1 Axes>"
            ],
            "image/png": "[encoded data removed]"
          },
          "metadata": {}
        }
      ]
    },
    {
      "cell_type": "markdown",
      "source": [
        "##**Questions**:\n",
        "\n",
        "\n",
        "\n",
        "Question 1:\n",
        "$$y = e^{-x/10}sin(x)$$\n",
        "Consider 10000 intervals in the range [0,10]\n",
        "\n",
        "1 .Plot the function in range   [0,10]\n",
        "\n",
        "2.Compute the mean and standard deviation of y for x values in [4,7]\n",
        "\n",
        "3.For x in the range [4,7]  find the value of ym such that 80% of y values are less than ym\n",
        "\n",
        "4.Plot dy/dx vs x\n",
        "  \n",
        "5. Find the locations where dy/dx = 0"
      ],
      "metadata": {
        "id": "ajZ6KvM48Uht"
      }
    },
    {
      "cell_type": "markdown",
      "source": [
        "**1**\n",
        "\n"
      ],
      "metadata": {
        "id": "zRsEpMlkLosc"
      }
    },
    {
      "cell_type": "code",
      "source": [
        "x = np.linspace(0,10,10000)\n",
        "y = np.exp(-x/10)*np.sin(x)\n",
        "plt.plot(x,y)"
      ],
      "metadata": {
        "id": "hqOHZ1wCLod2",
        "colab": {
          "base_uri": "https://localhost:8080/",
          "height": 447
        },
        "outputId": "3d8e4c46-a2f7-4941-807d-d749916370f3"
      },
      "execution_count": null,
      "outputs": [
        {
          "output_type": "execute_result",
          "data": {
            "text/plain": [
              "[<matplotlib.lines.Line2D at 0x7d537df04af0>]"
            ]
          },
          "metadata": {},
          "execution_count": 5
        },
        {
          "output_type": "display_data",
          "data": {
            "text/plain": [
              "<Figure size 640x480 with 1 Axes>"
            ],
            "image/png": "[encoded data removed]"
          },
          "metadata": {}
        }
      ]
    },
    {
      "cell_type": "markdown",
      "source": [
        "**2**"
      ],
      "metadata": {
        "id": "DZrWj2pxLrbM"
      }
    },
    {
      "cell_type": "code",
      "source": [
        "(x>=4)*(x<=7)"
      ],
      "metadata": {
        "id": "UPuCtIJLJRf3"
      },
      "execution_count": null,
      "outputs": []
    },
    {
      "cell_type": "code",
      "source": [
        "y[(x>=4)*(x<=7)]"
      ],
      "metadata": {
        "id": "G1Brj7efKViX"
      },
      "execution_count": null,
      "outputs": []
    },
    {
      "cell_type": "code",
      "source": [
        "np.mean(y[(x>=4)*(x<=7)])"
      ],
      "metadata": {
        "colab": {
          "base_uri": "https://localhost:8080/"
        },
        "id": "hbbUuJvlK94M",
        "outputId": "c67e69bd-6211-4c46-ca17-6062926e99b7"
      },
      "execution_count": null,
      "outputs": [
        {
          "output_type": "execute_result",
          "data": {
            "text/plain": [
              "-0.2953273365176934"
            ]
          },
          "metadata": {},
          "execution_count": 129
        }
      ]
    },
    {
      "cell_type": "code",
      "source": [
        "np.std(y[(x>=4)*(x<=7)])"
      ],
      "metadata": {
        "colab": {
          "base_uri": "https://localhost:8080/"
        },
        "id": "gcUVxx1kLAZk",
        "outputId": "cedab003-4694-4e22-f508-df3c61a69535"
      },
      "execution_count": null,
      "outputs": [
        {
          "output_type": "execute_result",
          "data": {
            "text/plain": [
              "0.3147016786225509"
            ]
          },
          "metadata": {},
          "execution_count": 130
        }
      ]
    },
    {
      "cell_type": "markdown",
      "source": [
        "3"
      ],
      "metadata": {
        "id": "7caGLYhzLscX"
      }
    },
    {
      "cell_type": "code",
      "source": [
        "np.percentile((y[(x>=4)*(x<=7)]),80)"
      ],
      "metadata": {
        "colab": {
          "base_uri": "https://localhost:8080/"
        },
        "id": "d2_gavoOLm7l",
        "outputId": "b8e44329-4be1-4188-b76b-fe62ddc5c1b4"
      },
      "execution_count": null,
      "outputs": [
        {
          "output_type": "execute_result",
          "data": {
            "text/plain": [
              "0.060625057602350874"
            ]
          },
          "metadata": {},
          "execution_count": 131
        }
      ]
    },
    {
      "cell_type": "markdown",
      "source": [
        "#4"
      ],
      "metadata": {
        "id": "ZZlRbwQ-Mi4R"
      }
    },
    {
      "cell_type": "code",
      "source": [
        "der = np.gradient(y,x)"
      ],
      "metadata": {
        "id": "Zh7O2j_SLB9R"
      },
      "execution_count": null,
      "outputs": []
    },
    {
      "cell_type": "code",
      "source": [
        "plt.plot(x,der)"
      ],
      "metadata": {
        "colab": {
          "base_uri": "https://localhost:8080/",
          "height": 447
        },
        "id": "8pup6M9oMqYk",
        "outputId": "cf190101-965b-4e0c-e706-61d15cac6b9e"
      },
      "execution_count": null,
      "outputs": [
        {
          "output_type": "execute_result",
          "data": {
            "text/plain": [
              "[<matplotlib.lines.Line2D at 0x7b4b2ac46c80>]"
            ]
          },
          "metadata": {},
          "execution_count": 134
        },
        {
          "output_type": "display_data",
          "data": {
            "text/plain": [
              "<Figure size 640x480 with 1 Axes>"
            ],
            "image/png": "[encoded data removed]"
          },
          "metadata": {}
        }
      ]
    },
    {
      "cell_type": "markdown",
      "source": [
        "points where dy/dx = 0\n",
        "###**Trick**\n",
        "if we multiply every element of array with previous element,each value will be positive except, where the array is changing signs i.e. those points where it is zero.\n"
      ],
      "metadata": {
        "id": "RY78V7QmOK3T"
      }
    },
    {
      "cell_type": "code",
      "source": [
        "sign = der[1:]*der[:-1] < 0"
      ],
      "metadata": {
        "id": "MGbGZjVOMsTn"
      },
      "execution_count": null,
      "outputs": []
    },
    {
      "cell_type": "code",
      "source": [
        "x[1:][sign] # we are not taking whole x bcz we have chopped each element of der, hence in taking full x, length won't match"
      ],
      "metadata": {
        "colab": {
          "base_uri": "https://localhost:8080/"
        },
        "id": "wLaj_uoKOw19",
        "outputId": "d2c7842d-4bb8-4a54-b710-6762263697c6"
      },
      "execution_count": null,
      "outputs": [
        {
          "output_type": "execute_result",
          "data": {
            "text/plain": [
              "array([1.47147147, 4.61461461, 7.75775776])"
            ]
          },
          "metadata": {},
          "execution_count": 138
        }
      ]
    },
    {
      "cell_type": "markdown",
      "source": [
        "### sum together all numbers from 1 to 10000, except those which can be divided by 4 or 7."
      ],
      "metadata": {
        "id": "yUjqRRIHR1TZ"
      }
    },
    {
      "cell_type": "code",
      "source": [
        "nums = np.arange(1,10000,1)\n",
        "sum(nums[(nums% 4 != 0 )*(nums% 7 != 0)])\n"
      ],
      "metadata": {
        "colab": {
          "base_uri": "https://localhost:8080/"
        },
        "id": "5okD_6YsR1Cb",
        "outputId": "fff05d3e-5097-4fd7-c1d4-3aab6e6ff0ab"
      },
      "execution_count": null,
      "outputs": [
        {
          "output_type": "execute_result",
          "data": {
            "text/plain": [
              "32147142"
            ]
          },
          "metadata": {},
          "execution_count": 149
        }
      ]
    },
    {
      "cell_type": "markdown",
      "source": [
        "## Excercise 2\n",
        "$$r(\\theta) = 1 + \\frac{3}{4} sin(3\\theta) \\; for \\; 0 \\leq \\theta \\leq 2\\pi  $$\n",
        "1.Plot the function in terms of find x and y)\n",
        "\n",
        "2.compute the area using the formula $$ A = \\int_{0}^{2\\pi} \\frac{1}{2} r^2 \\theta dθ $$\n",
        "\n",
        "\n",
        "3. compute the arclength using the formula : $$ L = \\int_{0}^{2\\pi} \\sqrt{ r^2 + \\left(\\frac{dr}{dθ} \\right)^2} d\\theta $$"
      ],
      "metadata": {
        "id": "yd3QGvqWgc86"
      }
    },
    {
      "cell_type": "code",
      "source": [
        "theta = np.linspace(0,np.pi*2,1000)\n",
        "r = 1 + 3/4*(np.sin(3*theta))\n",
        "x = r*np.cos(theta)\n",
        "y = r*np.sin(theta)\n",
        "plt.plot(x,y)"
      ],
      "metadata": {
        "id": "MVgT5MmbSczk",
        "colab": {
          "base_uri": "https://localhost:8080/",
          "height": 447
        },
        "outputId": "1b60595f-f83a-4ae8-f2df-3956b0e111fc"
      },
      "execution_count": null,
      "outputs": [
        {
          "output_type": "execute_result",
          "data": {
            "text/plain": [
              "[<matplotlib.lines.Line2D at 0x7d537ddcb0a0>]"
            ]
          },
          "metadata": {},
          "execution_count": 18
        },
        {
          "output_type": "display_data",
          "data": {
            "text/plain": [
              "<Figure size 640x480 with 1 Axes>"
            ],
            "image/png": "[encoded data removed]"
          },
          "metadata": {}
        }
      ]
    },
    {
      "cell_type": "code",
      "source": [
        "A = 0.5*np.sum(r**2)*(theta[1]-theta[0]) # Area\n",
        "print(A)"
      ],
      "metadata": {
        "colab": {
          "base_uri": "https://localhost:8080/"
        },
        "id": "sc-I5DalHqZK",
        "outputId": "608596f3-6a7c-4328-c415-ff7207a94eea"
      },
      "execution_count": null,
      "outputs": [
        {
          "output_type": "stream",
          "name": "stdout",
          "text": [
            "4.028310324802903\n"
          ]
        }
      ]
    },
    {
      "cell_type": "code",
      "source": [
        "L = sum(np.sqrt((r**2) + (np.gradient(r,theta))**2))*(theta[1] - theta[0])\n",
        "print(L)"
      ],
      "metadata": {
        "colab": {
          "base_uri": "https://localhost:8080/"
        },
        "id": "zupeYAcqJu5q",
        "outputId": "8b462553-ddb5-4dc7-f2ba-87aed4fdf7b6"
      },
      "execution_count": null,
      "outputs": [
        {
          "output_type": "stream",
          "name": "stdout",
          "text": [
            "11.640021569013872\n"
          ]
        }
      ]
    },
    {
      "cell_type": "markdown",
      "source": [
        "## BlackBody Radiation\n",
        "Power emitted by blackbody is $$ P = A \\sigma \\epsilon T^4 $$ The temprature of a star is given by $$T(t) = \\frac{1}{1+ e^{-kt}} $$\n",
        "Plot the total energy emitted by star as a function of tim using the fact that $$E(t') = \\int_{0}^{t} P(t')dt'  $$\n"
      ],
      "metadata": {
        "id": "HHBqoznnMWRx"
      }
    },
    {
      "cell_type": "markdown",
      "source": [
        "There are lots of quantities here, some of them are unknown like A,σ,ϵ etc.\n",
        "to make our calculation simplified we will make the reformulate it in dimensionless form\n",
        "i.e. $$ \\frac{P}{A\\sigma \\epsilon T_0^4} = \\left(\\frac{T}{T_0}\\right)^4$$\n",
        "\n",
        "$$ \\frac{P}{A\\sigma \\epsilon T_0^4} = \\left(\\frac{1}{1+ e^{-kt}} \\right)^4 $$"
      ],
      "metadata": {
        "id": "LU20l9lvPVdd"
      }
    },
    {
      "cell_type": "code",
      "source": [
        "kt = np.linspace(0,3,100)\n",
        "P_new = 1/(1+np.exp(-kt))**4\n",
        "kE = np.cumsum(P_new)*(kt[1]-kt[0])\n"
      ],
      "metadata": {
        "id": "315WMKU5LJz9"
      },
      "execution_count": null,
      "outputs": []
    },
    {
      "cell_type": "code",
      "source": [
        "plt.plot(kt,kE)\n",
        "plt.xlabel('kt',fontsize=20)\n",
        "plt.ylabel(r'$\\frac{k E(kt)}{A\\sigma \\epsilon T_0^4}$',fontsize=20)"
      ],
      "metadata": {
        "colab": {
          "base_uri": "https://localhost:8080/",
          "height": 484
        },
        "id": "axecZ1boRGvI",
        "outputId": "d6763be7-c0c1-4ed7-d45c-9aa54da13830"
      },
      "execution_count": null,
      "outputs": [
        {
          "output_type": "execute_result",
          "data": {
            "text/plain": [
              "Text(0, 0.5, '$\\\\frac{k E(kt)}{A\\\\sigma \\\\epsilon T_0^4}$')"
            ]
          },
          "metadata": {},
          "execution_count": 44
        },
        {
          "output_type": "display_data",
          "data": {
            "text/plain": [
              "<Figure size 640x480 with 1 Axes>"
            ],
            "image/png": "[encoded data removed]"
          },
          "metadata": {}
        }
      ]
    },
    {
      "cell_type": "markdown",
      "source": [
        "$$ Multidimensional\\;Array \\large$$"
      ],
      "metadata": {
        "id": "v18RaKCSS6e9"
      }
    },
    {
      "cell_type": "code",
      "source": [
        "np.array([[1,2],[2,3]])"
      ],
      "metadata": {
        "colab": {
          "base_uri": "https://localhost:8080/"
        },
        "id": "zVG6ks6_TD-h",
        "outputId": "154679d7-ded0-4f12-f9c4-d2562f00f275"
      },
      "execution_count": null,
      "outputs": [
        {
          "output_type": "execute_result",
          "data": {
            "text/plain": [
              "array([[1, 2],\n",
              "       [2, 3]])"
            ]
          },
          "metadata": {},
          "execution_count": 47
        }
      ]
    },
    {
      "cell_type": "code",
      "source": [
        "np.shape(np.array([[1,2],[2,3],[5,8]]))"
      ],
      "metadata": {
        "colab": {
          "base_uri": "https://localhost:8080/"
        },
        "id": "HoSnUkaXTZD3",
        "outputId": "db83f160-4de2-4049-c163-973d8dfe4943"
      },
      "execution_count": null,
      "outputs": [
        {
          "output_type": "execute_result",
          "data": {
            "text/plain": [
              "(3, 2)"
            ]
          },
          "metadata": {},
          "execution_count": 53
        }
      ]
    },
    {
      "cell_type": "code",
      "source": [
        "a1 = np.array([[6,4,2],[2,6,1],[4,8,3]])"
      ],
      "metadata": {
        "id": "svYrg0lkTjJH"
      },
      "execution_count": null,
      "outputs": []
    },
    {
      "cell_type": "code",
      "source": [
        "a1/2"
      ],
      "metadata": {
        "colab": {
          "base_uri": "https://localhost:8080/"
        },
        "id": "G7g7Hh63UHJ_",
        "outputId": "b82cc873-4f25-4747-ba2d-20258efa6b68"
      },
      "execution_count": null,
      "outputs": [
        {
          "output_type": "execute_result",
          "data": {
            "text/plain": [
              "array([[3., 2.],\n",
              "       [1., 3.],\n",
              "       [2., 4.]])"
            ]
          },
          "metadata": {},
          "execution_count": 55
        }
      ]
    },
    {
      "cell_type": "code",
      "source": [
        "#convert array to 1d\n",
        "np.ravel(a1)"
      ],
      "metadata": {
        "colab": {
          "base_uri": "https://localhost:8080/"
        },
        "id": "WnfOZkcAUIHp",
        "outputId": "f10908b5-85bb-48e3-bb05-7e7d37fc5598"
      },
      "execution_count": null,
      "outputs": [
        {
          "output_type": "execute_result",
          "data": {
            "text/plain": [
              "array([6, 4, 2, 6, 4, 8])"
            ]
          },
          "metadata": {},
          "execution_count": 57
        }
      ]
    },
    {
      "cell_type": "code",
      "source": [
        "a1>3 #boolean indexing"
      ],
      "metadata": {
        "colab": {
          "base_uri": "https://localhost:8080/"
        },
        "id": "su5yNdOSUN7f",
        "outputId": "1c9f9cc0-ae43-43f6-a59c-8539e4672acb"
      },
      "execution_count": null,
      "outputs": [
        {
          "output_type": "execute_result",
          "data": {
            "text/plain": [
              "array([[ True,  True],\n",
              "       [False,  True],\n",
              "       [ True,  True]])"
            ]
          },
          "metadata": {},
          "execution_count": 58
        }
      ]
    },
    {
      "cell_type": "code",
      "source": [
        "a2 = np.random.randn(2,3)"
      ],
      "metadata": {
        "id": "dsO2_QTiUY1Q"
      },
      "execution_count": null,
      "outputs": []
    },
    {
      "cell_type": "code",
      "source": [
        "a2"
      ],
      "metadata": {
        "colab": {
          "base_uri": "https://localhost:8080/"
        },
        "id": "fWhCEb90Ui97",
        "outputId": "cf4079e2-7578-4b50-dfec-390b16802d49"
      },
      "execution_count": null,
      "outputs": [
        {
          "output_type": "execute_result",
          "data": {
            "text/plain": [
              "array([[-1.61890515, -1.62402289,  0.10677632],\n",
              "       [ 1.30704121, -0.09158267, -0.65302674]])"
            ]
          },
          "metadata": {},
          "execution_count": 60
        }
      ]
    },
    {
      "cell_type": "code",
      "source": [
        "a2[a2>1]"
      ],
      "metadata": {
        "colab": {
          "base_uri": "https://localhost:8080/"
        },
        "id": "rMPk6zTVUjq6",
        "outputId": "6acbe6e2-7ba5-46da-f521-0f2b950a1b28"
      },
      "execution_count": null,
      "outputs": [
        {
          "output_type": "execute_result",
          "data": {
            "text/plain": [
              "array([1.30704121])"
            ]
          },
          "metadata": {},
          "execution_count": 68
        }
      ]
    },
    {
      "cell_type": "code",
      "source": [
        "a1"
      ],
      "metadata": {
        "colab": {
          "base_uri": "https://localhost:8080/"
        },
        "id": "850sT6JbUleH",
        "outputId": "d305783b-51cb-4d41-f834-ea34faf5b6ae"
      },
      "execution_count": null,
      "outputs": [
        {
          "output_type": "execute_result",
          "data": {
            "text/plain": [
              "array([[6, 4, 2],\n",
              "       [2, 6, 1],\n",
              "       [4, 8, 3]])"
            ]
          },
          "metadata": {},
          "execution_count": 71
        }
      ]
    },
    {
      "cell_type": "code",
      "source": [
        "a1[1]"
      ],
      "metadata": {
        "colab": {
          "base_uri": "https://localhost:8080/"
        },
        "id": "VAJ-fuwHYc2I",
        "outputId": "b484a115-d63e-475e-ce0b-7b70b7213c36"
      },
      "execution_count": null,
      "outputs": [
        {
          "output_type": "execute_result",
          "data": {
            "text/plain": [
              "array([2, 6, 1])"
            ]
          },
          "metadata": {},
          "execution_count": 72
        }
      ]
    },
    {
      "cell_type": "code",
      "source": [
        "a1[1,0]"
      ],
      "metadata": {
        "colab": {
          "base_uri": "https://localhost:8080/"
        },
        "id": "wLPcCpwyYjgg",
        "outputId": "66612cec-8b6e-4109-a928-29ebc7c90e1e"
      },
      "execution_count": null,
      "outputs": [
        {
          "output_type": "execute_result",
          "data": {
            "text/plain": [
              "2"
            ]
          },
          "metadata": {},
          "execution_count": 74
        }
      ]
    },
    {
      "cell_type": "code",
      "source": [
        "a1[1:,2]"
      ],
      "metadata": {
        "colab": {
          "base_uri": "https://localhost:8080/"
        },
        "id": "TVBnGvX6YnLp",
        "outputId": "62542144-7e82-41d5-d354-2b777f969817"
      },
      "execution_count": null,
      "outputs": [
        {
          "output_type": "execute_result",
          "data": {
            "text/plain": [
              "array([1, 3])"
            ]
          },
          "metadata": {},
          "execution_count": 75
        }
      ]
    },
    {
      "cell_type": "code",
      "source": [
        "a1[1:,1:]"
      ],
      "metadata": {
        "colab": {
          "base_uri": "https://localhost:8080/"
        },
        "id": "da6LucNLY564",
        "outputId": "0bdb54e7-cb6c-4d3c-f327-e3a3f0e7e1db"
      },
      "execution_count": null,
      "outputs": [
        {
          "output_type": "execute_result",
          "data": {
            "text/plain": [
              "array([[6, 1],\n",
              "       [8, 3]])"
            ]
          },
          "metadata": {},
          "execution_count": 76
        }
      ]
    },
    {
      "cell_type": "markdown",
      "source": [
        "#2D Function"
      ],
      "metadata": {
        "id": "S4_vAcDkZTQ3"
      }
    },
    {
      "cell_type": "code",
      "source": [
        "x = np.linspace(0,10,100)\n",
        "y = np.linspace(0,10,100)\n"
      ],
      "metadata": {
        "id": "5YZbrTSgZLx6"
      },
      "execution_count": null,
      "outputs": []
    },
    {
      "cell_type": "code",
      "source": [
        "z = x**2 + y**2\n",
        "np.shape(z) # it is going to give us a 1 d array not a 2d function"
      ],
      "metadata": {
        "colab": {
          "base_uri": "https://localhost:8080/"
        },
        "id": "C6yPtlIXZlJp",
        "outputId": "de3d3804-9c9e-49f7-93a6-ef02f9381eca"
      },
      "execution_count": null,
      "outputs": [
        {
          "output_type": "execute_result",
          "data": {
            "text/plain": [
              "(100,)"
            ]
          },
          "metadata": {},
          "execution_count": 93
        }
      ]
    },
    {
      "cell_type": "code",
      "source": [
        "#so we use a meshgrid\n",
        "xv,yv = np.meshgrid(x,y)"
      ],
      "metadata": {
        "id": "0D8gVWelZgbT"
      },
      "execution_count": null,
      "outputs": []
    },
    {
      "cell_type": "code",
      "source": [
        "zv = xv**2 + yv**2"
      ],
      "metadata": {
        "id": "0-2EVp-GaZjz"
      },
      "execution_count": null,
      "outputs": []
    },
    {
      "cell_type": "code",
      "source": [
        "plt.contourf(xv,yv,zv,levels = 10)\n",
        "plt.colorbar()"
      ],
      "metadata": {
        "colab": {
          "base_uri": "https://localhost:8080/",
          "height": 452
        },
        "id": "q-qBNDg2ac8V",
        "outputId": "6e46884c-09c4-496e-858f-c31f6646d071"
      },
      "execution_count": null,
      "outputs": [
        {
          "output_type": "execute_result",
          "data": {
            "text/plain": [
              "<matplotlib.colorbar.Colorbar at 0x7d536c12ce50>"
            ]
          },
          "metadata": {},
          "execution_count": 100
        },
        {
          "output_type": "display_data",
          "data": {
            "text/plain": [
              "<Figure size 640x480 with 2 Axes>"
            ],
            "image/png": "[encoded data removed]"
          },
          "metadata": {}
        }
      ]
    },
    {
      "cell_type": "code",
      "source": [],
      "metadata": {
        "id": "_q8xu1_yaqcO"
      },
      "execution_count": null,
      "outputs": []
    },
    {
      "cell_type": "markdown",
      "source": [
        "#Basic Linear Algebra"
      ],
      "metadata": {
        "id": "l7QpFnEybH9i"
      }
    },
    {
      "cell_type": "code",
      "source": [
        "a1 = np.array([1,2,3])\n",
        "b1 = np.array([2,-4,6])\n",
        "c1 = np.array([[1,2,3],[5,4,1],[9,0,1]])"
      ],
      "metadata": {
        "id": "-z-lir6lbLgP"
      },
      "execution_count": null,
      "outputs": []
    },
    {
      "cell_type": "code",
      "source": [
        "a1*b1"
      ],
      "metadata": {
        "colab": {
          "base_uri": "https://localhost:8080/"
        },
        "id": "gczCSPJUcZCI",
        "outputId": "437f50cc-f9b6-47b4-de41-c8b58b174aed"
      },
      "execution_count": null,
      "outputs": [
        {
          "output_type": "execute_result",
          "data": {
            "text/plain": [
              "array([ 2,  8, 18])"
            ]
          },
          "metadata": {},
          "execution_count": 109
        }
      ]
    },
    {
      "cell_type": "code",
      "source": [
        "#matrix multiplication\n",
        "a1@c1"
      ],
      "metadata": {
        "colab": {
          "base_uri": "https://localhost:8080/"
        },
        "id": "eZWVsTfXcdHH",
        "outputId": "7ddba50a-66de-42a4-9543-67f80c2d8898"
      },
      "execution_count": null,
      "outputs": [
        {
          "output_type": "execute_result",
          "data": {
            "text/plain": [
              "array([38, 10,  8])"
            ]
          },
          "metadata": {},
          "execution_count": 110
        }
      ]
    },
    {
      "cell_type": "code",
      "source": [
        "#dot product\n",
        "np.dot(a1,b1)"
      ],
      "metadata": {
        "colab": {
          "base_uri": "https://localhost:8080/"
        },
        "id": "QNR0nH-hcok3",
        "outputId": "271a45bc-b8dd-49f0-bfdb-b9a03a6f7d00"
      },
      "execution_count": null,
      "outputs": [
        {
          "output_type": "execute_result",
          "data": {
            "text/plain": [
              "28"
            ]
          },
          "metadata": {},
          "execution_count": 111
        }
      ]
    },
    {
      "cell_type": "code",
      "source": [
        "#cross product\n",
        "np.cross(a1,b1)"
      ],
      "metadata": {
        "colab": {
          "base_uri": "https://localhost:8080/"
        },
        "id": "dYt0Mfn1cu7a",
        "outputId": "5044ad25-22d4-493f-a053-b5d2984cf474"
      },
      "execution_count": null,
      "outputs": [
        {
          "output_type": "execute_result",
          "data": {
            "text/plain": [
              "array([24,  0, -8])"
            ]
          },
          "metadata": {},
          "execution_count": 114
        }
      ]
    },
    {
      "cell_type": "markdown",
      "source": [
        "###system of equations\n",
        "$$3x+2y+z = 4\\\\5x-5y+4z = 3 \\\\ 6x+z = 0$$"
      ],
      "metadata": {
        "id": "b2fRkVtGdNzi"
      }
    },
    {
      "cell_type": "code",
      "source": [
        "A = np.array([[3,2,1],[5,-5,4],[6,0,1]])\n",
        "B = np.array([4,3,0])"
      ],
      "metadata": {
        "id": "QNatuOHAc_20"
      },
      "execution_count": null,
      "outputs": []
    },
    {
      "cell_type": "code",
      "source": [
        "np.linalg.solve(A,B)"
      ],
      "metadata": {
        "colab": {
          "base_uri": "https://localhost:8080/"
        },
        "id": "2EQx4gB4dyqY",
        "outputId": "dbe4d99c-e294-4170-9668-141e50de802e"
      },
      "execution_count": null,
      "outputs": [
        {
          "output_type": "execute_result",
          "data": {
            "text/plain": [
              "array([-0.49056604,  1.26415094,  2.94339623])"
            ]
          },
          "metadata": {},
          "execution_count": 118
        }
      ]
    },
    {
      "cell_type": "markdown",
      "source": [
        "###Eigenvalues"
      ],
      "metadata": {
        "id": "lbjSNFXUd-HR"
      }
    },
    {
      "cell_type": "code",
      "source": [
        "A = np.array([[4,2,4],[2,4,2],[2,2,4]])"
      ],
      "metadata": {
        "id": "C9srYl-3d1vs"
      },
      "execution_count": null,
      "outputs": []
    },
    {
      "cell_type": "code",
      "source": [
        "np.linalg.eig(A)"
      ],
      "metadata": {
        "colab": {
          "base_uri": "https://localhost:8080/"
        },
        "id": "yrVCu5SKeI8p",
        "outputId": "5c01a462-7b9f-49ce-a923-4004456f7d92"
      },
      "execution_count": null,
      "outputs": [
        {
          "output_type": "execute_result",
          "data": {
            "text/plain": [
              "(array([1.39444872, 8.60555128, 2.        ]),\n",
              " array([[-8.52133516e-01,  6.77534985e-01,  7.07106781e-01],\n",
              "        [ 3.70046261e-01,  5.20070353e-01, -7.07106781e-01],\n",
              "        [ 3.70046261e-01,  5.20070353e-01,  4.99600361e-16]]))"
            ]
          },
          "metadata": {},
          "execution_count": 121
        }
      ]
    },
    {
      "cell_type": "code",
      "source": [
        "w, v = np.linalg.eig(A) #eignevalues and eigenvectors"
      ],
      "metadata": {
        "id": "fOBvtNRueMxe"
      },
      "execution_count": null,
      "outputs": []
    },
    {
      "cell_type": "code",
      "source": [
        "v"
      ],
      "metadata": {
        "colab": {
          "base_uri": "https://localhost:8080/"
        },
        "id": "6uWMpnPkeTAq",
        "outputId": "c16a71cc-2d68-4dbf-9476-7da2c7bf9c82"
      },
      "execution_count": null,
      "outputs": [
        {
          "output_type": "execute_result",
          "data": {
            "text/plain": [
              "array([[-8.52133516e-01,  6.77534985e-01,  7.07106781e-01],\n",
              "       [ 3.70046261e-01,  5.20070353e-01, -7.07106781e-01],\n",
              "       [ 3.70046261e-01,  5.20070353e-01,  4.99600361e-16]])"
            ]
          },
          "metadata": {},
          "execution_count": 126
        }
      ]
    },
    {
      "cell_type": "code",
      "source": [
        "v1 = v[:,0]\n",
        "print(v1)"
      ],
      "metadata": {
        "colab": {
          "base_uri": "https://localhost:8080/"
        },
        "id": "IQumQpMjeVuO",
        "outputId": "7a5810b1-71d2-498a-c412-80ccd7baa224"
      },
      "execution_count": null,
      "outputs": [
        {
          "output_type": "stream",
          "name": "stdout",
          "text": [
            "[-0.85213352  0.37004626  0.37004626]\n"
          ]
        }
      ]
    },
    {
      "cell_type": "code",
      "source": [
        "# we know from basic linear algebra AX = vX\n",
        "# v = eigenvalue and X = eignevector"
      ],
      "metadata": {
        "id": "UmY09xNpehvK"
      },
      "execution_count": null,
      "outputs": []
    },
    {
      "cell_type": "code",
      "source": [
        "A@v1"
      ],
      "metadata": {
        "colab": {
          "base_uri": "https://localhost:8080/"
        },
        "id": "3NDRNQy9e2xO",
        "outputId": "72cee39c-054a-44ac-e6bd-2e711242bfee"
      },
      "execution_count": null,
      "outputs": [
        {
          "output_type": "execute_result",
          "data": {
            "text/plain": [
              "array([-1.18825649,  0.51601054,  0.51601054])"
            ]
          },
          "metadata": {},
          "execution_count": 128
        }
      ]
    },
    {
      "cell_type": "code",
      "source": [
        "w[0]*v1"
      ],
      "metadata": {
        "colab": {
          "base_uri": "https://localhost:8080/"
        },
        "id": "KH3oODuXe4h_",
        "outputId": "772027c3-1508-46d5-8ee3-721a209d977a"
      },
      "execution_count": null,
      "outputs": [
        {
          "output_type": "execute_result",
          "data": {
            "text/plain": [
              "array([-1.18825649,  0.51601054,  0.51601054])"
            ]
          },
          "metadata": {},
          "execution_count": 129
        }
      ]
    },
    {
      "cell_type": "markdown",
      "source": [
        " # Examples\n"
      ],
      "metadata": {
        "id": "DLOBAJYfgcyQ"
      }
    },
    {
      "cell_type": "markdown",
      "source": [
        " $$f(x,y) =e^{-(x^2 +y^2)}.sin(x)\\;\\; ; -2\\leq x \\leq 2 \\; and\\; -2\\leq y \\leq 2  $$\n",
        "1. make a contour plot of f(x,y)\n",
        "2. Find volume of |f(x,y)|\n",
        "3.find volume of |f(x,y)| where $$\\sqrt{x^2+y^2} > 0.5 $$"
      ],
      "metadata": {
        "id": "CWNE9RA8izSU"
      }
    },
    {
      "cell_type": "code",
      "source": [
        "x = np.linspace(-2,2,1000)\n",
        "y = np.linspace(-2,2,1000)\n",
        "xv , yv = np.meshgrid(x,y)"
      ],
      "metadata": {
        "id": "NfIk5ovSe98p"
      },
      "execution_count": null,
      "outputs": []
    },
    {
      "cell_type": "code",
      "source": [
        "f = np.exp(-(xv**2 + yv**2)) * np.sin(xv)\n",
        "plt.contourf(xv,yv,f,levels=100)\n",
        "plt.colorbar()"
      ],
      "metadata": {
        "colab": {
          "base_uri": "https://localhost:8080/",
          "height": 452
        },
        "id": "q4ovxnlNX4g7",
        "outputId": "4333272d-f7c8-41fe-ebc1-5018e976933a"
      },
      "execution_count": null,
      "outputs": [
        {
          "output_type": "execute_result",
          "data": {
            "text/plain": [
              "<matplotlib.colorbar.Colorbar at 0x788006c6a770>"
            ]
          },
          "metadata": {},
          "execution_count": 26
        },
        {
          "output_type": "display_data",
          "data": {
            "text/plain": [
              "<Figure size 640x480 with 2 Axes>"
            ],
            "image/png": "[encoded data removed]"
          },
          "metadata": {}
        }
      ]
    },
    {
      "cell_type": "code",
      "source": [
        "np.abs(f.ravel()).sum()"
      ],
      "metadata": {
        "colab": {
          "base_uri": "https://localhost:8080/"
        },
        "id": "Snd-ahVLYESs",
        "outputId": "762c755a-bb54-44a5-81b7-5be26993b9e2"
      },
      "execution_count": null,
      "outputs": [
        {
          "output_type": "execute_result",
          "data": {
            "text/plain": [
              "92700.93306683048"
            ]
          },
          "metadata": {},
          "execution_count": 32
        }
      ]
    },
    {
      "cell_type": "code",
      "source": [
        "#dx and dy\n",
        "np.diff(x)[0]"
      ],
      "metadata": {
        "id": "R9pgv7KwacFl"
      },
      "execution_count": null,
      "outputs": []
    },
    {
      "cell_type": "code",
      "source": [
        "#volume\n",
        "np.abs(f.ravel()).sum()*np.diff(x)[0]*np.diff(y)[0]"
      ],
      "metadata": {
        "colab": {
          "base_uri": "https://localhost:8080/"
        },
        "id": "MqIXXJufbyQQ",
        "outputId": "5b596fd8-2022-4e75-d323-9c5c03ca8926"
      },
      "execution_count": null,
      "outputs": [
        {
          "output_type": "execute_result",
          "data": {
            "text/plain": [
              "1.4861858145124311"
            ]
          },
          "metadata": {},
          "execution_count": 34
        }
      ]
    },
    {
      "cell_type": "code",
      "source": [
        "xv**2 + yv**2 > 0.5**2"
      ],
      "metadata": {
        "colab": {
          "base_uri": "https://localhost:8080/"
        },
        "id": "wptHw6bpcJnH",
        "outputId": "5c23f036-311f-4681-e99b-c84bdf151ab0"
      },
      "execution_count": null,
      "outputs": [
        {
          "output_type": "execute_result",
          "data": {
            "text/plain": [
              "array([[ True,  True,  True, ...,  True,  True,  True],\n",
              "       [ True,  True,  True, ...,  True,  True,  True],\n",
              "       [ True,  True,  True, ...,  True,  True,  True],\n",
              "       ...,\n",
              "       [ True,  True,  True, ...,  True,  True,  True],\n",
              "       [ True,  True,  True, ...,  True,  True,  True],\n",
              "       [ True,  True,  True, ...,  True,  True,  True]])"
            ]
          },
          "metadata": {},
          "execution_count": 43
        }
      ]
    },
    {
      "cell_type": "code",
      "source": [
        "ff = f[xv**2 + yv**2 > 0.5**2]"
      ],
      "metadata": {
        "id": "NF0hkcOCcitK"
      },
      "execution_count": null,
      "outputs": []
    },
    {
      "cell_type": "code",
      "source": [
        "np.abs(ff.ravel()).sum()*np.diff(x)[0]*np.diff(y)[0]"
      ],
      "metadata": {
        "colab": {
          "base_uri": "https://localhost:8080/"
        },
        "id": "pLxVz-vZctOV",
        "outputId": "1a0ad244-54a9-4ef4-e556-951d721f744b"
      },
      "execution_count": null,
      "outputs": [
        {
          "output_type": "execute_result",
          "data": {
            "text/plain": [
              "1.3447652930203164"
            ]
          },
          "metadata": {},
          "execution_count": 45
        }
      ]
    },
    {
      "cell_type": "markdown",
      "source": [
        "## Question 2,\n",
        "\n",
        "\"After examining a circuit full of resistors, you find that the voltage at 4 specified points is given by\n",
        "\n",
        "$ 3V_1 + 2V_2 + 3V_3 + 10V_4 = 4$\n",
        "\n",
        "$ 2V_1 - 2V_2 + 5V_3 + 8V_4 = 1$\n",
        "\n",
        "$ 3V_1 + 3V_2 + 4V_3 + 9V_4 = 3$\n",
        "\n",
        "$ 3V_1 + 4V_2 - 3V_3 - 7V_4 = 2$\n",
        "\n",
        "Find all the voltages\n"
      ],
      "metadata": {
        "id": "zrHcgqLAeK3j"
      }
    },
    {
      "cell_type": "code",
      "source": [
        "# we can solve it by linear linearalgebra\n",
        "v = np.array([[3,2,3,10],[2,-2,5,8],[3,3,4,9],[3,4,-3,-7]])"
      ],
      "metadata": {
        "id": "sA4mDIgMerLV"
      },
      "execution_count": null,
      "outputs": []
    },
    {
      "cell_type": "code",
      "source": [
        "x = np.array([4,1,3,2])"
      ],
      "metadata": {
        "id": "uOTjbVJ6e950"
      },
      "execution_count": null,
      "outputs": []
    },
    {
      "cell_type": "code",
      "source": [
        "vi = np.linalg.solve(v,x)\n",
        "vi"
      ],
      "metadata": {
        "colab": {
          "base_uri": "https://localhost:8080/"
        },
        "id": "ZFy5xaOLe-yx",
        "outputId": "556e12fc-ef5f-4dff-b413-128bb5b3b523"
      },
      "execution_count": null,
      "outputs": [
        {
          "output_type": "execute_result",
          "data": {
            "text/plain": [
              "array([ 0.78378378,  0.03603604, -0.67567568,  0.36036036])"
            ]
          },
          "metadata": {},
          "execution_count": 50
        }
      ]
    },
    {
      "cell_type": "markdown",
      "source": [
        "## Question 3\n",
        "An electric field is given by\n",
        "$\\vec{E}(z,t) = E_0 \\cos (z-t) \\hat{x} + 2E_0 \\cos(z-t+\\pi/2) \\hat{y}$\n",
        "\n",
        "1.Find the magnetic field for all\n",
        "$z \\in [0,4\\pi]$ and $t \\in [0,10]$\n",
        "using\n",
        "$c\\vec{B}(z,t) = \\hat{z} \\times \\vec{E}(z,t)$\n",
        "\n",
        "2.Compute the Poynting vector $\\vec{S} = \\vec{E} \\times \\vec{B}$ for all $z$ and $t$"
      ],
      "metadata": {
        "id": "aqm5wCpbfn0Y"
      }
    },
    {
      "cell_type": "code",
      "source": [
        "# set c =1"
      ],
      "metadata": {
        "id": "7Y95cb7QhQHb"
      },
      "execution_count": null,
      "outputs": []
    },
    {
      "cell_type": "code",
      "source": [
        "z = np.linspace(0,4*np.pi,100)\n",
        "t = np.linspace(0,10,100)\n",
        "zz,tt = np.meshgrid(z,t)"
      ],
      "metadata": {
        "id": "BILwdbrbfdMO"
      },
      "execution_count": null,
      "outputs": []
    },
    {
      "cell_type": "code",
      "source": [
        "Ex = np.cos(zz-tt)\n",
        "Ey = 2*np.cos(zz-tt+ 0.5*np.pi)\n",
        "Ez = 0*tt"
      ],
      "metadata": {
        "id": "ZhtHHCb5glWK"
      },
      "execution_count": null,
      "outputs": []
    },
    {
      "cell_type": "code",
      "source": [
        "#Ex as a function of t at z=0\n",
        "plt.plot(t,Ex[0])"
      ],
      "metadata": {
        "colab": {
          "base_uri": "https://localhost:8080/",
          "height": 447
        },
        "id": "WYVdN6Weg_5C",
        "outputId": "be4f435e-32e3-4d27-dda7-f7ac709b47e0"
      },
      "execution_count": null,
      "outputs": [
        {
          "output_type": "execute_result",
          "data": {
            "text/plain": [
              "[<matplotlib.lines.Line2D at 0x78800576a890>]"
            ]
          },
          "metadata": {},
          "execution_count": 65
        },
        {
          "output_type": "display_data",
          "data": {
            "text/plain": [
              "<Figure size 640x480 with 1 Axes>"
            ],
            "image/png": "[encoded data removed]"
          },
          "metadata": {}
        }
      ]
    },
    {
      "cell_type": "code",
      "source": [
        "#Ex as a function of z at t=0\n",
        "plt.plot(t,Ex[:,0])"
      ],
      "metadata": {
        "colab": {
          "base_uri": "https://localhost:8080/",
          "height": 447
        },
        "id": "k1rEFEEOhGER",
        "outputId": "66e175ad-8bc4-45e2-ca5b-8ab1206e7a2b"
      },
      "execution_count": null,
      "outputs": [
        {
          "output_type": "execute_result",
          "data": {
            "text/plain": [
              "[<matplotlib.lines.Line2D at 0x7880057b09d0>]"
            ]
          },
          "metadata": {},
          "execution_count": 67
        },
        {
          "output_type": "display_data",
          "data": {
            "text/plain": [
              "<Figure size 640x480 with 1 Axes>"
            ],
            "image/png": "[encoded data removed]"
          },
          "metadata": {}
        }
      ]
    },
    {
      "cell_type": "code",
      "source": [
        "E = np.array([Ex,Ey,Ez])"
      ],
      "metadata": {
        "id": "eDHYnWwMiAat"
      },
      "execution_count": null,
      "outputs": []
    },
    {
      "cell_type": "code",
      "source": [
        "E"
      ],
      "metadata": {
        "id": "l2GmC2SgidBu"
      },
      "execution_count": null,
      "outputs": []
    },
    {
      "cell_type": "code",
      "source": [
        "# now every first column is Ex, second Ey, third Ez\n",
        "E = np.swapaxes(E,0,-1)"
      ],
      "metadata": {
        "id": "rQxeeNGniflW"
      },
      "execution_count": null,
      "outputs": []
    },
    {
      "cell_type": "code",
      "source": [
        "zhat = np.array([0,0,1])\n",
        "B = np.cross(zhat,E)"
      ],
      "metadata": {
        "id": "i8ZxYQ7Ai1ZL"
      },
      "execution_count": null,
      "outputs": []
    },
    {
      "cell_type": "code",
      "source": [
        "B = np.swapaxes(B,0,-1)"
      ],
      "metadata": {
        "id": "ikk0GlG7jE7c"
      },
      "execution_count": null,
      "outputs": []
    },
    {
      "cell_type": "code",
      "source": [
        "Bx,By,Bz = B"
      ],
      "metadata": {
        "id": "rii_SDgTjZ67"
      },
      "execution_count": null,
      "outputs": []
    },
    {
      "cell_type": "code",
      "source": [
        "plt.plot(t,Ey[0])\n",
        "plt.plot(t,Bx[0])\n"
      ],
      "metadata": {
        "colab": {
          "base_uri": "https://localhost:8080/",
          "height": 447
        },
        "id": "0jIXgzx6jeCB",
        "outputId": "d1f836c1-7e14-4d14-b46d-5f0d8346cfc5"
      },
      "execution_count": null,
      "outputs": [
        {
          "output_type": "execute_result",
          "data": {
            "text/plain": [
              "[<matplotlib.lines.Line2D at 0x7880053a8550>]"
            ]
          },
          "metadata": {},
          "execution_count": 79
        },
        {
          "output_type": "display_data",
          "data": {
            "text/plain": [
              "<Figure size 640x480 with 1 Axes>"
            ],
            "image/png": "[encoded data removed]"
          },
          "metadata": {}
        }
      ]
    },
    {
      "cell_type": "markdown",
      "source": [
        "Poynting vector\n",
        "S = ExB"
      ],
      "metadata": {
        "id": "qh6rKfAyj4LA"
      }
    },
    {
      "cell_type": "code",
      "source": [
        "# E is in correct form\n",
        "# we have to swap B again\n",
        "B = np.swapaxes(B,0,-1)"
      ],
      "metadata": {
        "id": "gGCKXUNdjst6"
      },
      "execution_count": null,
      "outputs": []
    },
    {
      "cell_type": "code",
      "source": [
        "S = np.cross(E,B)"
      ],
      "metadata": {
        "id": "JVVGsMf2krn9"
      },
      "execution_count": null,
      "outputs": []
    },
    {
      "cell_type": "code",
      "source": [
        "S = np.swapaxes(S,0,-1)"
      ],
      "metadata": {
        "id": "fkgysovVkzNV"
      },
      "execution_count": null,
      "outputs": []
    },
    {
      "cell_type": "code",
      "source": [
        "Sx, Sy, Sz = S"
      ],
      "metadata": {
        "id": "BxuzexvFk1Yg"
      },
      "execution_count": null,
      "outputs": []
    },
    {
      "cell_type": "markdown",
      "source": [
        " ## Central Difference\n",
        "Find the solutions to $\\left(\\frac{d^2}{dx^2} + (10x)^2\\right) f = \\lambda f$ with boundary conditions $f(0)=f(1)=0$\n",
        "\n",
        "\n",
        "use the eigenvalue method and the fact that\n",
        "$\\frac{d^2 f}{dx^2} \\approx \\frac{f_{i+1} + f_{i-1} - 2f_i}{\\Delta x^2}$\n",
        "\n",
        "where $f_i = f(i \\Delta x)$ and $i$ is an integer. \"\n"
      ],
      "metadata": {
        "id": "dglJmT3LlaVH"
      }
    },
    {
      "cell_type": "code",
      "source": [
        "N = 1000\n",
        "x = np.linspace(0,1,N+1)\n",
        "dx = x[1] -x[0]"
      ],
      "metadata": {
        "id": "lmie3t2yl38H"
      },
      "execution_count": null,
      "outputs": []
    },
    {
      "cell_type": "code",
      "source": [
        "main_diag = -2*np.ones(N-1) # because 0th and Nth element is zero, we are not taking them\n",
        "off_diag = np.ones(N-2)"
      ],
      "metadata": {
        "id": "LtBQrZbMtGEE"
      },
      "execution_count": null,
      "outputs": []
    },
    {
      "cell_type": "code",
      "source": [
        "np.diag(off_diag,1) # above 1 place of diagonal"
      ],
      "metadata": {
        "id": "pG6kYcUtt_bk"
      },
      "execution_count": null,
      "outputs": []
    },
    {
      "cell_type": "code",
      "source": [
        "derivative_matrix = (np.diag(main_diag) + np.diag(off_diag,-1) + np.diag(off_diag,1))/dx**2\n",
        "x2_matrix = np.diag((10*x[1:-1])**2)\n",
        "LHS_matrix = derivative_matrix + x2_matrix"
      ],
      "metadata": {
        "id": "AxyHmCRWtKmF"
      },
      "execution_count": null,
      "outputs": []
    },
    {
      "cell_type": "code",
      "source": [
        "w,  v = np.linalg.eigh(LHS_matrix) #eigh for hermitian matrix/real symmetric"
      ],
      "metadata": {
        "id": "uTP9hSfHvMoJ"
      },
      "execution_count": null,
      "outputs": []
    },
    {
      "cell_type": "code",
      "source": [
        "#last eignevalue will be smallest in magnitude\n",
        "w[-1]"
      ],
      "metadata": {
        "colab": {
          "base_uri": "https://localhost:8080/"
        },
        "id": "0rMKunuTyFbG",
        "outputId": "849598cf-8818-4ed9-c6d3-84a3eeab64ee"
      },
      "execution_count": null,
      "outputs": [
        {
          "output_type": "execute_result",
          "data": {
            "text/plain": [
              "29.855323222437388"
            ]
          },
          "metadata": {},
          "execution_count": 158
        }
      ]
    },
    {
      "cell_type": "code",
      "source": [
        "ta"
      ],
      "metadata": {
        "id": "tMaqK7IQ_5BI"
      },
      "execution_count": null,
      "outputs": []
    },
    {
      "cell_type": "code",
      "source": [
        "plt.plot(v[:,-1])\n",
        "plt.plot(v[:,-2])\n",
        "plt.plot(v[:,-3])\n",
        "plt.plot(v[:,-4])\n"
      ],
      "metadata": {
        "colab": {
          "base_uri": "https://localhost:8080/",
          "height": 447
        },
        "id": "mBlwHBr-wqO4",
        "outputId": "702daf66-eff6-4244-e0f7-a60a0d532b06"
      },
      "execution_count": null,
      "outputs": [
        {
          "output_type": "execute_result",
          "data": {
            "text/plain": [
              "[<matplotlib.lines.Line2D at 0x788005168b80>]"
            ]
          },
          "metadata": {},
          "execution_count": 157
        },
        {
          "output_type": "display_data",
          "data": {
            "text/plain": [
              "<Figure size 640x480 with 1 Axes>"
            ],
            "image/png": "[encoded data removed]"
          },
          "metadata": {}
        }
      ]
    },
    {
      "cell_type": "markdown",
      "source": [
        "##Reading Data in Numpy"
      ],
      "metadata": {
        "id": "zrwcAMzkyqvn"
      }
    },
    {
      "cell_type": "code",
      "source": [
        "data = np.loadtxt('sample.csv',dtype = 'object',delimiter=',',skiprows = 1)"
      ],
      "metadata": {
        "id": "XTveG7vbwOlA"
      },
      "execution_count": null,
      "outputs": []
    },
    {
      "cell_type": "code",
      "source": [
        "data"
      ],
      "metadata": {
        "colab": {
          "base_uri": "https://localhost:8080/"
        },
        "id": "D9lfZSU1_sm7",
        "outputId": "da167c1e-1afd-45d9-bd9b-2dac9246d3d4"
      },
      "execution_count": null,
      "outputs": [
        {
          "output_type": "execute_result",
          "data": {
            "text/plain": [
              "array([['Ram', '172'],\n",
              "       ['Shyam', '168'],\n",
              "       ['mohan ', '182'],\n",
              "       ['ravi', '156'],\n",
              "       ['neeraj', '170'],\n",
              "       ['Ayush', '190']], dtype=object)"
            ]
          },
          "metadata": {},
          "execution_count": 166
        }
      ]
    },
    {
      "cell_type": "code",
      "source": [
        "names, height = data = np.loadtxt('sample.csv',dtype = 'object',delimiter=',',unpack='True',skiprows = 1)"
      ],
      "metadata": {
        "id": "xV7dOG9f_6Da"
      },
      "execution_count": null,
      "outputs": []
    },
    {
      "cell_type": "code",
      "source": [
        "height"
      ],
      "metadata": {
        "colab": {
          "base_uri": "https://localhost:8080/"
        },
        "id": "KPjFo5OYDPoO",
        "outputId": "7f8d23a9-51aa-4b1b-b8e3-2fdd8ddf6c71"
      },
      "execution_count": null,
      "outputs": [
        {
          "output_type": "execute_result",
          "data": {
            "text/plain": [
              "array(['172', '168', '182', '156', '170', '190'], dtype=object)"
            ]
          },
          "metadata": {},
          "execution_count": 170
        }
      ]
    },
    {
      "cell_type": "code",
      "source": [],
      "metadata": {
        "id": "zKQ9StdIDQMF"
      },
      "execution_count": null,
      "outputs": []
    }
  ]
}