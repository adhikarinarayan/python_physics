{
  "nbformat": 4,
  "nbformat_minor": 0,
  "metadata": {
    "colab": {
      "provenance": []
    },
    "kernelspec": {
      "name": "python3",
      "display_name": "Python 3"
    },
    "language_info": {
      "name": "python"
    }
  },
  "cells": [
    {
      "cell_type": "markdown",
      "source": [
        "# Some interesting problems in basic python\n",
        "these are taken from PHYS-E0412 - Computational Physics aalto university\n",
        "\n"
      ],
      "metadata": {
        "id": "pxcqbC8T_e0K"
      }
    },
    {
      "cell_type": "code",
      "source": [
        "import numpy as np\n",
        "import matplotlib.pyplot as plt"
      ],
      "metadata": {
        "id": "rkppmXSs55zG"
      },
      "execution_count": null,
      "outputs": []
    },
    {
      "cell_type": "markdown",
      "source": [
        "##1.Calculation of madelung constant with python\n",
        " $$M_{Na} = ∑^{∞}_{j,k,l=-\\infty} \\frac{(-1)^j+k+l}{\\sqrt{j^2+k^2+l^2}}  $$"
      ],
      "metadata": {
        "id": "5Kv5_zgw_dcq"
      }
    },
    {
      "cell_type": "code",
      "source": [
        "\n",
        "L = int(input(\"Enter L: \")) # L grid size\n",
        "M = 0.0\n",
        "for j in range(-L, L + 1):\n",
        "   for k in range(-L, L + 1):\n",
        "      for l in range(-L, L + 1):\n",
        "         if j == k == l == 0: #since at this point denominator becomes 0, we want to avoid this situation\n",
        "            continue\n",
        "         M += (-1)**(j+k+l) / np.sqrt( j**2 + k**2 + l**2 )\n",
        "print(\"For L =\", L, \"M =\", M)"
      ],
      "metadata": {
        "id": "MbjYZh8e_hlE"
      },
      "execution_count": null,
      "outputs": []
    },
    {
      "cell_type": "markdown",
      "source": [
        "## 2.The Catalan numbers\n",
        "these are  $C_n$ are a sequence of integers 1, 1, 2, 5, 14, 42, 132\n",
        "$\\dots$ that play an important role in quantum mechanics and the theory of disordered systems.  (They were central to Eugene Wigner's proof\n",
        "of the so-called semicircle law.)  They are given by\n",
        "\n",
        "$$\n",
        "C_0 = 1,\\qquad C_{n+1} = {4n+2\\over n+2}\\,C_n.$$"
      ],
      "metadata": {
        "id": "_uEXnJ12MqzP"
      }
    },
    {
      "cell_type": "code",
      "source": [
        "n=10\n",
        "cat_nos = np.zeros(n+2)\n",
        "\n",
        "    # YOUR CODE HERE\n",
        "cat_nos[0] = 1\n",
        "for i in range(0,n+1):\n",
        "  cat_nos[i+1] = ((4*i+2)/(i+2))*cat_nos[i]"
      ],
      "metadata": {
        "id": "D-6BdasPFMPH"
      },
      "execution_count": null,
      "outputs": []
    },
    {
      "cell_type": "code",
      "source": [
        "print(cat_nos)"
      ],
      "metadata": {
        "id": "fbRpLasTR_K4"
      },
      "execution_count": null,
      "outputs": []
    },
    {
      "cell_type": "markdown",
      "source": [
        "##3. another way to calculate catalan numbers\n",
        "$$C_0 = 0 ; C_n = \\sum^{n-1}_{0} C_{i-1} C_{n-i-1} $$"
      ],
      "metadata": {
        "id": "jlbYSRaFO3EX"
      }
    },
    {
      "cell_type": "code",
      "source": [
        "def get_catalan_n(n):\n",
        "    \"\"\" gets nth catalan number with recursion\n",
        "    Args:\n",
        "        n (int): the index of catalan number needed\n",
        "    Returns:\n",
        "        int: nth catalan number\n",
        "    Raises:\n",
        "        AssertionError: if n is not integer\"\"\"\n",
        "    cn = 1\n",
        "    assert isinstance(n, int), \"n should be int\"\n",
        "\n",
        "    # YOUR CODE HERE\n",
        "    if n<=1:\n",
        "     return 1\n",
        "\n",
        "    for i in range(n):\n",
        "      cn += get_catalan_n(i) * get_catalan_n(n-i-1)\n",
        "    return cn\n",
        "\n",
        "    #raise NotImplementedError()\n",
        "\n"
      ],
      "metadata": {
        "id": "VrYZXnqLHJ8I"
      },
      "execution_count": null,
      "outputs": []
    },
    {
      "cell_type": "markdown",
      "source": [
        "## 4 Another ball dropped from a tower\n",
        "\n",
        "A ball is dropped from a tower of height $h$ with initial velocity zero.  Write a program that asks the user to enter the height of the tower in meters and then calculates and prints the time the ball takes until it hits the ground, ignoring air resistance.  Use your program to calculate the time for a ball dropped from a $100\\,$m high tower."
      ],
      "metadata": {
        "id": "u_CYnUbefsDS"
      }
    },
    {
      "cell_type": "code",
      "source": [
        "def time_from_h(s):\n",
        "    \"\"\"calculates time taken for a mass dropped from height\n",
        "    s to hit the ground\n",
        "    Args:\n",
        "        s (float): height in meters\n",
        "    Returns:\n",
        "        float: time to reach the ground\"\"\"\n",
        "    # constants\n",
        "    a = 9.8  # acceleration due to gravity (m/s^2)\n",
        "    t = 0  # time (s)\n",
        "\n",
        "    # YOUR CODE HERE\n",
        "    s = input('Enter Height: ')\n",
        "    t = np.sqrt(2*s/a)\n",
        "    raise NotImplementedError()\n",
        "\n",
        "    return t"
      ],
      "metadata": {
        "id": "wKbGiNGtsUoo"
      },
      "execution_count": null,
      "outputs": []
    },
    {
      "cell_type": "code",
      "source": [
        "# validation\n",
        "assert time_from_h(0) == 0.0\n",
        "assert abs(time_from_h(10) - 1.4285714) < 1e-4\n",
        "print(\"Time for a ball dropped from 100m high tower: {} s\"\n",
        "      \"\".format(time_from_h(100)))"
      ],
      "metadata": {
        "id": "OhqjKf_yfxRI"
      },
      "execution_count": null,
      "outputs": []
    },
    {
      "cell_type": "markdown",
      "source": [
        "## 5 Transmission and Reflection\n",
        "A well-known quantum mechanics problem involves a particle of mass $m$ that encounters a one-dimensional potential step, like this:\n",
        "\n",
        "The particle with initial kinetic energy $E$ and wavevector $k_1=\\sqrt{2mE}/\\hbar$ enters from the left and encounters a\n",
        "sudden jump in potential energy of height $V$ at position $x=0$.  By solving the Schroedinger equation, one can show that when $E>V$ the particle may either (a) pass the step, in which case it has a lower kinetic energy of $E-V$ on the other side and a correspondingly smaller wavevector of $k_2=\\sqrt{2m(E-V)}/\\hbar$, or (b) it may be reflected, keeping all of\n",
        "its kinetic energy and an unchanged wavevector but moving in the opposite direction.  The probabilities $T$ and $R$ for transmission and reflection are given by\n",
        "\n",
        "$$T = {4k_1k_2\\over(k_1+k_2)^2}\\,,\\qquad\n",
        "R = \\biggl( {k_1-k_2\\over k_1+k_2} \\biggr)^2.$$\n",
        "\n",
        "Suppose we have a particle with mass equal to the electron mass $m=9.11\\times10^{-31}\\,$kg and energy $10\\,$eV encountering a potential step of height $9\\,$eV.  Write a Python program to compute and print out the transmission and reflection probabilities using the formulas above."
      ],
      "metadata": {
        "id": "NDFQj7UdfrIb"
      }
    },
    {
      "cell_type": "code",
      "source": [
        "def get_tnr_prob(m, e, v):\n",
        "    \"\"\"get transmission and reflection probabilities\n",
        "    Args:\n",
        "        m (float): mass of the object in Kg\n",
        "        e (float): energy of the object in eV\n",
        "        v (float): height of the potential step in eV\n",
        "\n",
        "    Retruns:\n",
        "        float: transmission values\n",
        "        float: reflection values\n",
        "    \"\"\"\n",
        "    # constants\n",
        "    hbar = 6.58211956e-16  # eVs\n",
        "    t, r = 0, 0\n",
        "\n",
        "    # YOUR CODE HERE\n",
        "    raise NotImplementedError()\n",
        "\n",
        "    return t, r"
      ],
      "metadata": {
        "id": "P3T9Vgf9f5Z9"
      },
      "execution_count": null,
      "outputs": []
    },
    {
      "cell_type": "code",
      "source": [
        "# validation\n",
        "t, r = get_tnr_prob(8e-30, 20, 15)\n",
        "assert abs(t - 0.88888888) < 1e-4, \"bad transmission probability\"\n",
        "assert abs(r - 0.11111111) < 1e-4, \"bad reflection probability\"\n",
        "\n",
        "# ex\n",
        "m = 9.11e-31  # Kg\n",
        "e = 10  # eV\n",
        "v = 9  # eV\n",
        "t, r = get_tnr_prob(m, e, v)\n",
        "print(\"With: M={} kg, E={} eV, and V={} eV\\n\"\n",
        "      \"Transmission probability: {}\\n\"\n",
        "      \"Reflection probability: {}\".format(m, e, v, t, r))"
      ],
      "metadata": {
        "id": "_i1J9MAGf7hx"
      },
      "execution_count": null,
      "outputs": []
    },
    {
      "cell_type": "markdown",
      "source": [
        "## 6 Photoelectric Effect\n",
        "\n",
        "Suppose we make some guess about the parameters $m$ and $c$ for the straight line.  We then calculate the vertical distances between the data points and that line, as represented by the short vertical lines in the figure, then we calculate the sum of the squares of those distances, which we denote $\\chi^2$.  If we have $N$ data points with coordinates $(x_i,y_i)$, then $\\chi^2$ is given by\n",
        "\n",
        "$$\n",
        "\\chi^2 = \\sum_{i=1}^N (mx_i+c-y_i)^2.\n",
        "$$\n",
        "\n",
        "The least-squares fit of the straight line to the data is the straight line that minimizes this total squared distance from data to line.  We find the minimum by differentiating with respect to both $m$ and $c$ and setting the derivatives to zero, which gives\n",
        "\n",
        "\\begin{align*}\n",
        "m \\sum_{i=1}^N x_i^2 + c \\sum_{i=1}^N x_i - \\sum_{i=1}^N x_iy_i &= 0, \\\\\n",
        "m \\sum_{i=1}^N x_i + cN - \\sum_{i=1}^N y_i &= 0.\n",
        "\\end{align*}\n",
        "\n",
        "For convenience, let us define the following quantities:\n",
        "$$\n",
        "E_x = {1\\over N} \\sum_{i=1}^N x_i,\\qquad\n",
        "E_y = {1\\over N} \\sum_{i=1}^N y_i,\\qquad\n",
        "E_{xx} = {1\\over N} \\sum_{i=1}^N x_i^2,\\qquad\n",
        "E_{xy} = {1\\over N} \\sum_{i=1}^N x_iy_i,\n",
        "$$\n",
        "in terms of which our equations can be written\n",
        "\\begin{align*}\n",
        "mE_{xx} + cE_x &= E_{xy}\\,, \\\\\n",
        "mE_x + c &= E_y\\,.\n",
        "\\end{align*}\n",
        "\n",
        "Solving these equations simultaneously for $m$ and $c$ now gives\n",
        "\n",
        "\\begin{equation}\n",
        "m = {E_{xy}-E_x E_y\\over E_{xx} - E_x^2},\\qquad\n",
        "c = {E_{xx}E_y-E_x E_{xy}\\over E_{xx} - E_x^2}.\n",
        "\\end{equation}\n",
        "\n",
        "These are the equations for the least-squares fit of a straight line to $N$ data points.  They tell you the values of $m$ and $c$ for the line that best fits the given data.\n",
        "\n",
        "(a) In the folder that you obtained this notebook you will find a file called ``millikan.txt``.  The file contains two columns of numbers, giving the $x$ and $y$ coordinates of a set of data points.  Write a function to read these data points and make a graph with one dot or circle for each point"
      ],
      "metadata": {
        "id": "SNtHQvkjf9T8"
      }
    },
    {
      "cell_type": "code",
      "source": [
        "def read_millikan_data():\n",
        "    \"\"\"Reads data from 'millikan.txt'\n",
        "    Returns\n",
        "        list: list of x values\n",
        "        list: list of y values\"\"\"\n",
        "    filename = \"millikan.txt\"\n",
        "    x = []\n",
        "    y = []\n",
        "    f = np.loadtxt(\"/content/sample_data/millikan.txt\",delimiter = ' ')\n",
        "    print(f)\n",
        "    x = f[:,0]\n",
        "    y = f[:,1]\n",
        "\n",
        "    # YOUR CODE HERE\n",
        "    #raise NotImplementedError()\n",
        "\n",
        "    return x, y"
      ],
      "metadata": {
        "id": "pQFbvpG8gEbZ"
      },
      "execution_count": null,
      "outputs": []
    },
    {
      "cell_type": "code",
      "source": [
        "x, y = read_millikan_data()\n",
        "\n",
        "# validation\n",
        "assert len(x) == 6, \"lenght of x should be 6\"\n",
        "assert len(y) == 6, \"lenght of y should be 6\"\n",
        "assert abs(x[0] - 5.4874e+14) < 1e8, \"incorrect x values\"\n",
        "assert abs(y[0] - 0.5309) < 1e-5, \"incorrect y values\"\n",
        "\n",
        "# plotting\n",
        "plt.plot(x, y, 'o')\n",
        "plt.xlabel(\"x\")\n",
        "plt.ylabel(\"y\")\n",
        "plt.show()"
      ],
      "metadata": {
        "colab": {
          "base_uri": "https://localhost:8080/",
          "height": 553
        },
        "id": "5DmU4gmljZlQ",
        "outputId": "772723e8-17a4-4b69-dc5d-c71468601d85"
      },
      "execution_count": null,
      "outputs": [
        {
          "output_type": "stream",
          "name": "stdout",
          "text": [
            "[[5.48740e+14 5.30900e-01]\n",
            " [6.93100e+14 1.08420e+00]\n",
            " [7.43070e+14 1.27340e+00]\n",
            " [8.21930e+14 1.65980e+00]\n",
            " [9.60740e+14 2.19856e+00]\n",
            " [1.18400e+15 3.10891e+00]]\n"
          ]
        },
        {
          "output_type": "display_data",
          "data": {
            "text/plain": [
              "<Figure size 640x480 with 1 Axes>"
            ],
            "image/png": "[encoded data removed]"
          },
          "metadata": {}
        }
      ]
    },
    {
      "cell_type": "markdown",
      "source": [
        "(b) Write function `fit(x,y)` that fits a line to given $x$ and $y$ coordinates by first calculating the quantities $E_x$, $E_y$, $E_{xx}$, and $E_{xy}$ defined above, and then using these quantities to determine the slope $m$ and intercept $c$ of the best-fit line."
      ],
      "metadata": {
        "id": "Zpzhek-IgKh8"
      }
    },
    {
      "cell_type": "code",
      "source": [
        "# data fitting\n",
        "def fit(x, y):\n",
        "    \"\"\"Fits straight line to the data\n",
        "    Args:\n",
        "        x (list): list of x values\n",
        "        y (list): list of y values\n",
        "    Returns\n",
        "        float: m slope of the line fit\n",
        "        float: c constant of the line fit\"\"\"\n",
        "    m = 0\n",
        "    c = 0\n",
        "\n",
        "    # YOUR CODE HERE\n",
        "    N = len(x)\n",
        "\n",
        "    Ex = 0\n",
        "    Ey = 0\n",
        "    Exx = 0\n",
        "    Exy = 0\n",
        "\n",
        "    for i in range(N):\n",
        "        Ex += x[i]\n",
        "        Ey += y[i]\n",
        "        Exx += x[i]*x[i]\n",
        "        Exy += x[i]*y[i]\n",
        "\n",
        "    Ex = Ex/N\n",
        "    Ey = Ey/N\n",
        "    Exx = Exx/N\n",
        "    Exy = Exy/N\n",
        "    m = (Exy - Ex*Ey)/(Exx - Ex*Ex)\n",
        "    c = (Exx*Ey - Ex*Exy)/(Exx - Ex*Ex)\n",
        "#raise NotImplementedError()\n",
        "\n",
        "    return m, c"
      ],
      "metadata": {
        "id": "3fONVfRTgL_x"
      },
      "execution_count": null,
      "outputs": []
    },
    {
      "cell_type": "code",
      "source": [
        "# validation\n",
        "m, c = fit([0, 1], [0, 1])\n",
        "assert m == 1, \"bad fit\"\n",
        "assert c == 0, \"bad fit\""
      ],
      "metadata": {
        "id": "C7hC50iMgJDE"
      },
      "execution_count": null,
      "outputs": []
    },
    {
      "cell_type": "markdown",
      "source": [
        "(c) Now use `fit()`-function to fit a line on the data that you read from ``millikan.txt`` and plot another graph that shows the fitted line with the data points. To plot the line, write code that goes through each of the data points in turn and evaluates the quantity $mx_i+c$ using the values of $m$ and $c$ that you obtained from `fit()`. Store these values in a new list, which you can then graph as a solid line. You should end up with a plot of the data points plus a straight line that runs through them."
      ],
      "metadata": {
        "id": "2LnyORp8gRM0"
      }
    },
    {
      "cell_type": "code",
      "source": [
        "x, y = read_millikan_data()\n",
        "\n",
        "y_fit = [] # m*x_i + c\n",
        "\n",
        "# YOUR CODE HERE\n",
        "m,c = fit(x,y)\n",
        "for i in range(len(x)):\n",
        "    y_fit.append(m*x[i] + c)\n",
        "#raise NotImplementedError()\n",
        "\n",
        "plt.plot(x, y, 'o', label=\"Data\")\n",
        "plt.plot(x, y_fit, '-', label=\"Best fit\")\n",
        "plt.xlabel(\"x\")\n",
        "plt.ylabel(\"y\")\n",
        "plt.legend()\n",
        "plt.show()"
      ],
      "metadata": {
        "id": "Xp-fILaGgTM6",
        "colab": {
          "base_uri": "https://localhost:8080/",
          "height": 553
        },
        "outputId": "07ea9e40-528d-4d9b-d116-f5d06c890cc0"
      },
      "execution_count": null,
      "outputs": [
        {
          "output_type": "stream",
          "name": "stdout",
          "text": [
            "[[5.48740e+14 5.30900e-01]\n",
            " [6.93100e+14 1.08420e+00]\n",
            " [7.43070e+14 1.27340e+00]\n",
            " [8.21930e+14 1.65980e+00]\n",
            " [9.60740e+14 2.19856e+00]\n",
            " [1.18400e+15 3.10891e+00]]\n"
          ]
        },
        {
          "output_type": "display_data",
          "data": {
            "text/plain": [
              "<Figure size 640x480 with 1 Axes>"
            ],
            "image/png": "[encoded data removed]"
          },
          "metadata": {}
        }
      ]
    }
  ]
}